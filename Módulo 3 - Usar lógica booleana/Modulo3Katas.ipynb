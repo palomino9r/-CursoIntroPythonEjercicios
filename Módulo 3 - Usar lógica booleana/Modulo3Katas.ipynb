{
 "cells": [
  {
   "cell_type": "markdown",
   "metadata": {},
   "source": [
    "Un asteroide se acerca, y viaja a una velocidad de 49 km/s."
   ]
  },
  {
   "cell_type": "code",
   "execution_count": null,
   "metadata": {},
   "outputs": [],
   "source": [
    "meteorVel = 49;\n",
    "\n",
    "if (meteorVel > 25) :\n",
    "    print(\"warning a meteorite is faster than normal meteorites velocities\");\n",
    "else :\n",
    "    print(\"another normal meteorite\");"
   ]
  },
  {
   "cell_type": "markdown",
   "metadata": {},
   "source": [
    "Escribe la lógica condicional que usa declaraciones `if`, `else`, y `elif` para alertar a las personas de todo el mundo que deben buscar un asteroide en el cielo. ¡Hay uno que se dirige a la tierra ahora a una velocidad de 19 km/s!"
   ]
  },
  {
   "cell_type": "code",
   "execution_count": null,
   "metadata": {},
   "outputs": [],
   "source": [
    "asteroidVel = 19;\n",
    "\n",
    "if (asteroidVel > 20) :\n",
    "    print(\"you can se a light from the earth\");\n",
    "elif (asteroidVel == 20) :\n",
    "    print(\"look theres a light in the sky\");\n",
    "else :\n",
    "    print(\"theres nothing to see dude\");"
   ]
  },
  {
   "cell_type": "markdown",
   "metadata": {},
   "source": [
    "Aquí está la nueva información que necesitas saber:\n",
    "\n",
    "*Los asteroides de menos de 25 metros en su dimensión más grande probablemente se quemarán a medida que entren en la atmósfera de la Tierra.\n",
    "* Si una pieza de un asteroide que es más grande que 25 metros pero más pequeña que 1000 metros golpeara la Tierra, causaría mucho daño.\n",
    "\n",
    "También discutimos en el ejercicio anterior que:\n",
    "\n",
    "* La velocidad del asteroide varía en función de lo cerca que esté del sol, y cualquier velocidad superior a 25 kilómetros por segundo (km/s) merece una advertencia.\n",
    "* Si un asteroide entra en la atmósfera de la Tierra a una velocidad mayor o igual a 20 km/s, a veces produce un rayo de luz que se puede ver desde la Tierra.\n",
    "\n",
    "Usando toda esta información, escribe un programa que emita la advertencia o información correcta a la gente de la Tierra, según la velocidad y el tamaño de un asteroide. Utiliza instrucciones `if`, `else`, y `elif`, así como los operadores `and` y `or`."
   ]
  },
  {
   "cell_type": "code",
   "execution_count": 1,
   "metadata": {},
   "outputs": [
    {
     "name": "stdout",
     "output_type": "stream",
     "text": [
      "that asteroid is going to get burn or we are going to see a nice light in the sky\n"
     ]
    }
   ],
   "source": [
    "asteroidSize = 25;\n",
    "asteroidVel = 20;\n",
    "\n",
    "if (asteroidSize > 25 and asteroidSize < 1000) :\n",
    "    print(\"the earth is going to be damage by that asteroid\");\n",
    "elif (asteroidVel > 25) :\n",
    "    print(\"that asteroid is going faster than normal keep an eye on it\");\n",
    "elif (asteroidSize < 25 or (asteroidVel > 19 and asteroidVel < 25) ) :\n",
    "    print(\"that asteroid is going to get burn or we are going to see a nice light in the sky\");\n",
    "else :\n",
    "    print(\"a normal asteroid nothing spetial\");"
   ]
  }
 ],
 "metadata": {
  "interpreter": {
   "hash": "31f2aee4e71d21fbe5cf8b01ff0e069b9275f58929596ceb00d14d90e3e16cd6"
  },
  "kernelspec": {
   "display_name": "Python 3.6.7 64-bit",
   "language": "python",
   "name": "python3"
  },
  "language_info": {
   "codemirror_mode": {
    "name": "ipython",
    "version": 3
   },
   "file_extension": ".py",
   "mimetype": "text/x-python",
   "name": "python",
   "nbconvert_exporter": "python",
   "pygments_lexer": "ipython3",
   "version": "3.6.9"
  },
  "orig_nbformat": 4
 },
 "nbformat": 4,
 "nbformat_minor": 2
}
